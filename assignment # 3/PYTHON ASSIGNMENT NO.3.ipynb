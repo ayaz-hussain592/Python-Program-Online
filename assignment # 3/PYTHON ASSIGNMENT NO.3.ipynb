{
 "cells": [
  {
   "cell_type": "code",
   "execution_count": 2,
   "id": "777cad5c",
   "metadata": {},
   "outputs": [
    {
     "name": "stdout",
     "output_type": "stream",
     "text": [
      "2021-10-24 03:19:52.017787\n"
     ]
    }
   ],
   "source": [
    "#**********QUESTION NUMBER 3***********\n",
    "# PROGRAM TO PRINT CURRENT DATE AND TIME....\n",
    "import datetime\n",
    "x = datetime.datetime.now();\n",
    "print(x);\n"
   ]
  },
  {
   "cell_type": "code",
   "execution_count": 11,
   "id": "5c0deb14",
   "metadata": {},
   "outputs": [
    {
     "name": "stdout",
     "output_type": "stream",
     "text": [
      "Enter the radius of a circle 50\n",
      "Area of a circle =  157.1 units\n"
     ]
    }
   ],
   "source": [
    "#**********QUESTION NUMBER 4***********\n",
    "# AREA OF A CIRCLE.....\n",
    "radius = int(input(\"Enter the radius of a circle \"));\n",
    "AreaOfCircle = 3.142*radius;\n",
    "print(\"Area of a circle = \", AreaOfCircle,\"units\");\n"
   ]
  },
  {
   "cell_type": "code",
   "execution_count": 13,
   "id": "939f1058",
   "metadata": {},
   "outputs": [
    {
     "name": "stdout",
     "output_type": "stream",
     "text": [
      "type your first nameHUSSAIN\n",
      "type your last nameAYAZ\n",
      "AYAZ HUSSAIN\n"
     ]
    }
   ],
   "source": [
    "#**********QUESTION NUMBER 5***********\n",
    "# PRINT USER NAME IN REVERSE ORDER.....\n",
    "firstName = input(\"type your first name\");\n",
    "lastName = input(\"type your last name\");\n",
    "fullName  = lastName +\" \"+ firstName;\n",
    "print(fullName);\n"
   ]
  },
  {
   "cell_type": "code",
   "execution_count": 14,
   "id": "071e6f24",
   "metadata": {},
   "outputs": [
    {
     "name": "stdout",
     "output_type": "stream",
     "text": [
      "type 1st number45\n",
      "type 2nd number65\n",
      "Sum of two number =  110\n"
     ]
    }
   ],
   "source": [
    "#**********QUESTION NUMBER 6***********\n",
    "# ADD TWO NUMBERS\n",
    "num1 = int(input(\"type 1st number\"));\n",
    "num2 = int(input(\"type 2nd number\"));\n",
    "# addition\n",
    "print(\"Sum of two number = \",num1+num2);\n"
   ]
  },
  {
   "cell_type": "code",
   "execution_count": 16,
   "id": "317ac68a",
   "metadata": {},
   "outputs": [
    {
     "name": "stdout",
     "output_type": "stream",
     "text": [
      "enter your physics marks78\n",
      "enter your chemistry marks80\n",
      "enter your maths marks85\n",
      "enter your english marks67\n",
      "enter your urdu marks70\n",
      "Grade\tA+1 \n"
     ]
    }
   ],
   "source": [
    "#**********QUESTION NUMBER 7***********\n",
    "# Mark sheet\n",
    "#taking inputs of marks \n",
    "phy = int(input(\"enter your physics marks \"));# out of 100\n",
    "chem = int(input(\"enter your chemistry marks \"));# out of 100\n",
    "math = int(input(\"enter your maths marks \"));# out of 100\n",
    "eng = int(input(\"enter your english marks \"));# out of 75\n",
    "urdu = int(input(\"enter your urdu marks \"));# out of 75\n",
    "total = phy + chem + math + eng + urdu ;\n",
    "percentage = (total/450)*100;\n",
    "\n",
    "#APPLYING CONDITION...........\n",
    "\n",
    "if percentage >=80 and percentage <=100:\n",
    "    print(\"Grade\\tA+1 \");\n",
    "elif percentage < 80 and percentage >= 70:\n",
    "    print(\"Grade\\tA \");\n",
    "elif percentage < 70 and percentage >= 60:\n",
    "    print(\"Grade\\tB \");\n",
    "elif percentage < 60 and percentage >= 45:\n",
    "    print(\"Grade\\tC \");\n",
    "elif percentage < 45 and percentage >=0:\n",
    "    print(\" FAIL \");\n",
    "elif percentage < 0 or percentage > 100:\n",
    "    print(\"You have entered wrong percentage\");\n"
   ]
  },
  {
   "cell_type": "code",
   "execution_count": 21,
   "id": "d566dec7",
   "metadata": {},
   "outputs": [
    {
     "name": "stdout",
     "output_type": "stream",
     "text": [
      "Enter a number 66\n",
      "66  is Even number\n"
     ]
    }
   ],
   "source": [
    "#**********QUESTION NUMBER 8***********\n",
    "# even or odd.........\n",
    "num = int(input(\"Enter a number \"));\n",
    "if num%2==0:\n",
    "    print(num,\" is Even number\");\n",
    "else: \n",
    "    print(num,\" is Odd number\");\n",
    "   "
   ]
  },
  {
   "cell_type": "code",
   "execution_count": 23,
   "id": "c6994da4",
   "metadata": {},
   "outputs": [
    {
     "name": "stdout",
     "output_type": "stream",
     "text": [
      "4\n"
     ]
    }
   ],
   "source": [
    "#**********QUESTION NUMBER 9***********\n",
    "# length of list..........\n",
    "names = [\"ayaz\",\"fayyaz\",\"shahzad\",\"noushad\"];\n",
    "#printing length of the lsit.......\n",
    "print(len(names));"
   ]
  },
  {
   "cell_type": "code",
   "execution_count": 31,
   "id": "10bab626",
   "metadata": {},
   "outputs": [
    {
     "name": "stdout",
     "output_type": "stream",
     "text": [
      "415\n"
     ]
    }
   ],
   "source": [
    "#**********QUESTION NUMBER 10***********\n",
    "# sum off all numeric items in a lsit......\n",
    " \n",
    "marks = [23,45,56,45,67,80,65,34];\n",
    "total = 0;\n",
    "for x in range(len(marks)):\n",
    "    total = total + marks[x];\n",
    "print(total);\n",
    "\n"
   ]
  },
  {
   "cell_type": "code",
   "execution_count": 36,
   "id": "d05aa962",
   "metadata": {},
   "outputs": [
    {
     "name": "stdout",
     "output_type": "stream",
     "text": [
      "80\n"
     ]
    }
   ],
   "source": [
    "#**********QUESTION NUMBER 11***********\n",
    "# getting largest number from the list.....\n",
    "\n",
    "marks = [23,45,56,45,67,80,65,34];\n",
    "largestNum = 0;\n",
    "for x in range(len(marks)):\n",
    "    if largestNum<marks[x]:\n",
    "        largestNum = marks[x];\n",
    "print(largestNum);\n"
   ]
  },
  {
   "cell_type": "code",
   "execution_count": 37,
   "id": "fde3ea1a",
   "metadata": {},
   "outputs": [
    {
     "name": "stdout",
     "output_type": "stream",
     "text": [
      "4\n",
      "3\n",
      "2\n",
      "1\n",
      "3\n",
      "0\n"
     ]
    }
   ],
   "source": [
    "#**********QUESTION NUMBER 12***********\n",
    "# print num less than 5 from a list.....\n",
    "\n",
    "numbers = [4,3,6,7,8,10,2,1,17,45,23,3,5,0];\n",
    "for x in range(len(numbers)):\n",
    "    if numbers[x]<5:\n",
    "        print(numbers[x]);"
   ]
  },
  {
   "cell_type": "code",
   "execution_count": 38,
   "id": "3f3daaca",
   "metadata": {},
   "outputs": [
    {
     "name": "stdout",
     "output_type": "stream",
     "text": [
      "Python Version\n",
      "3.8.8 (default, Apr 13 2021, 15:08:03) [MSC v.1916 64 bit (AMD64)]\n",
      "Version info\n",
      "sys.version_info(major=3, minor=8, micro=8, releaselevel='final', serial=0)\n"
     ]
    }
   ],
   "source": [
    "#**********QUESTION NUMBER 12***********\n",
    "# python version.......\n",
    "import sys\n",
    "print(\"Python Version\");\n",
    "print(sys.version);\n",
    "print(\"Version info\");\n",
    "print(sys.version_info);"
   ]
  },
  {
   "cell_type": "code",
   "execution_count": 42,
   "id": "719d7977",
   "metadata": {},
   "outputs": [
    {
     "name": "stdout",
     "output_type": "stream",
     "text": [
      "Twinkle, twinkle little star,\n",
      "         How I wonder what you are!\n",
      "                 Up above the world so high,\n",
      "                 Like a diamond in the sky.\n",
      "Twinkle, twinkle little star,\n",
      "         How I wonder what you are!\n"
     ]
    }
   ],
   "source": [
    "#**********QUESTION NUMBER 12***********\n",
    "# poem..........\n",
    "line1 = \"Twinkle, twinkle little star,\";\n",
    "line2 = \"         How I wonder what you are!\";\n",
    "line3 = \"                 Up above the world so high,\";\n",
    "line4 = \"                 Like a diamond in the sky.\"\n",
    "\n",
    "print(line1);\n",
    "print(line2);\n",
    "print(line3);\n",
    "print(line4);\n",
    "print(line1);\n",
    "print(line2);"
   ]
  },
  {
   "cell_type": "code",
   "execution_count": null,
   "id": "ddbb3e48",
   "metadata": {},
   "outputs": [],
   "source": []
  }
 ],
 "metadata": {
  "kernelspec": {
   "display_name": "Python 3",
   "language": "python",
   "name": "python3"
  },
  "language_info": {
   "codemirror_mode": {
    "name": "ipython",
    "version": 3
   },
   "file_extension": ".py",
   "mimetype": "text/x-python",
   "name": "python",
   "nbconvert_exporter": "python",
   "pygments_lexer": "ipython3",
   "version": "3.8.8"
  }
 },
 "nbformat": 4,
 "nbformat_minor": 5
}
